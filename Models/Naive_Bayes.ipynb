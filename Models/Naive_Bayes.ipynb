{
 "cells": [
  {
   "cell_type": "markdown",
   "metadata": {
    "id": "T3c3r7bK27ky"
   },
   "source": [
    "# Toxic Comment Classification:\n",
    "- Baseline Naive Bayes method\n",
    "- [Kaggle Link](https://www.kaggle.com/c/jigsaw-toxic-comment-classification-challenge)\n",
    "- Final project for CS 7650, Spring 2021 at Georgia Tech taught by Alan Ritter\n",
    "  - Due 05/05/2021\n",
    "- By Justin Chen"
   ]
  },
  {
   "cell_type": "markdown",
   "metadata": {
    "id": "oQTr-sYG4mmJ"
   },
   "source": [
    "## Libraries"
   ]
  },
  {
   "cell_type": "markdown",
   "metadata": {
    "id": "9vTFabO63j8t"
   },
   "source": [
    "Mount my google drive for the data"
   ]
  },
  {
   "cell_type": "code",
   "execution_count": null,
   "metadata": {
    "colab": {
     "base_uri": "https://localhost:8080/"
    },
    "executionInfo": {
     "elapsed": 20713,
     "status": "ok",
     "timestamp": 1618950976489,
     "user": {
      "displayName": "Justin Chen",
      "photoUrl": "",
      "userId": "17694757636074260730"
     },
     "user_tz": 240
    },
    "id": "Jj-WLvcy1cBw",
    "outputId": "4694bda5-b4db-4ffb-e3f6-4d7010cd7e38"
   },
   "outputs": [],
   "source": [
    "import os\n",
    "from google.colab import drive\n",
    "drive.mount('/content/drive', force_remount=True)\n",
    "os.chdir(\"drive/MyDrive/Colab Notebooks/CS7650/final\")\n",
    "os.listdir()"
   ]
  },
  {
   "cell_type": "markdown",
   "metadata": {
    "id": "6EOdtKqB4fsG"
   },
   "source": [
    "Necessary Libraries"
   ]
  },
  {
   "cell_type": "code",
   "execution_count": null,
   "metadata": {
    "executionInfo": {
     "elapsed": 21783,
     "status": "ok",
     "timestamp": 1618950977561,
     "user": {
      "displayName": "Justin Chen",
      "photoUrl": "",
      "userId": "17694757636074260730"
     },
     "user_tz": 240
    },
    "id": "wx96uej94fZ5"
   },
   "outputs": [],
   "source": [
    "import pandas as pd\n",
    "import numpy as np\n",
    "import tqdm\n",
    "from sklearn.feature_extraction.text import CountVectorizer, TfidfVectorizer\n",
    "from sklearn.model_selection import train_test_split\n",
    "from sklearn.pipeline import Pipeline\n",
    "from sklearn.naive_bayes import MultinomialNB\n",
    "from sklearn.metrics import accuracy_score, precision_score, recall_score, f1_score\n",
    "from sklearn.multiclass import OneVsRestClassifier"
   ]
  },
  {
   "cell_type": "code",
   "execution_count": null,
   "metadata": {
    "executionInfo": {
     "elapsed": 21782,
     "status": "ok",
     "timestamp": 1618950977562,
     "user": {
      "displayName": "Justin Chen",
      "photoUrl": "",
      "userId": "17694757636074260730"
     },
     "user_tz": 240
    },
    "id": "yGKlSmHr1Evc"
   },
   "outputs": [],
   "source": [
    "np.random.seed(0)"
   ]
  },
  {
   "cell_type": "markdown",
   "metadata": {
    "id": "e7D7UjA241iC"
   },
   "source": [
    "## Read in Data"
   ]
  },
  {
   "cell_type": "code",
   "execution_count": null,
   "metadata": {
    "colab": {
     "base_uri": "https://localhost:8080/",
     "height": 197
    },
    "executionInfo": {
     "elapsed": 25953,
     "status": "ok",
     "timestamp": 1618950981739,
     "user": {
      "displayName": "Justin Chen",
      "photoUrl": "",
      "userId": "17694757636074260730"
     },
     "user_tz": 240
    },
    "id": "JBZypD1o40Xl",
    "outputId": "6d9de6e8-b209-4b90-e885-97d126e59125"
   },
   "outputs": [],
   "source": [
    "df_train = pd.read_csv('data/clean/train_clean_stop_stem.csv')\n",
    "df_test = pd.read_csv('data/clean/test_clean_stop_stem.csv')\n",
    "df_train.head()"
   ]
  },
  {
   "cell_type": "code",
   "execution_count": null,
   "metadata": {
    "colab": {
     "base_uri": "https://localhost:8080/"
    },
    "executionInfo": {
     "elapsed": 25950,
     "status": "ok",
     "timestamp": 1618950981740,
     "user": {
      "displayName": "Justin Chen",
      "photoUrl": "",
      "userId": "17694757636074260730"
     },
     "user_tz": 240
    },
    "id": "3ZVT1ugA5k5R",
    "outputId": "67269019-9ba3-4f93-b516-f05f4dd214f9"
   },
   "outputs": [],
   "source": [
    "print('{0} rows in train'.format(len(df_train)))\n",
    "print('{0} rows in test'.format(len(df_test)))"
   ]
  },
  {
   "cell_type": "code",
   "execution_count": null,
   "metadata": {
    "executionInfo": {
     "elapsed": 26194,
     "status": "ok",
     "timestamp": 1618950981986,
     "user": {
      "displayName": "Justin Chen",
      "photoUrl": "",
      "userId": "17694757636074260730"
     },
     "user_tz": 240
    },
    "id": "_z6u770_06FL"
   },
   "outputs": [],
   "source": [
    "# #create mask to generate train/val set\n",
    "# train_mask = np.full(len(df), False)\n",
    "# num_test = int(len(df)*0.25)\n",
    "# train_mask[:num_test] = True\n",
    "# train_mask = np.random.shuffle(train_mask)\n",
    "classes = ['toxic', 'severe_toxic', 'obscene', 'threat', 'insult', 'identity_hate']\n",
    "X_train = df_train['comment_text']\n",
    "y_train = df_train[classes]\n",
    "X_test = df_test['comment_text']\n",
    "y_test = df_test[classes]"
   ]
  },
  {
   "cell_type": "markdown",
   "metadata": {
    "id": "YYnaa2dk_a_N"
   },
   "source": [
    "## Naive Bayes\n",
    "- Try either tfidf or count vectorizer"
   ]
  },
  {
   "cell_type": "code",
   "execution_count": null,
   "metadata": {
    "executionInfo": {
     "elapsed": 26193,
     "status": "ok",
     "timestamp": 1618950981987,
     "user": {
      "displayName": "Justin Chen",
      "photoUrl": "",
      "userId": "17694757636074260730"
     },
     "user_tz": 240
    },
    "id": "eSxFKsQjydFB"
   },
   "outputs": [],
   "source": [
    "class NaiveBayes():\n",
    "  def __init__(self):\n",
    "    self.pipeline = Pipeline([('vect', CountVectorizer()),\n",
    "                              ('clf', OneVsRestClassifier(MultinomialNB()))\n",
    "                              ])\n",
    "  \n",
    "  def fit(self, x, y):\n",
    "    self.pipeline.fit(x, y)\n",
    "\n",
    "  def predict(self, x):\n",
    "    return self.pipeline.predict(x)\n",
    "  \n",
    "  def eval(self, train, train_label, test, test_label):\n",
    "    all_preds = np.zeros(shape=(test.shape[0], len(classes)))\n",
    "    for i, c in enumerate(classes):\n",
    "      self.fit(train, train_label[c])\n",
    "      pred = self.predict(test)\n",
    "      acc = accuracy_score(test_label[c], pred)\n",
    "      rec = recall_score(test_label[c], pred)\n",
    "      prec = precision_score(test_label[c], pred)\n",
    "      f1 = f1_score(test_label[c], pred)\n",
    "      print(f'{c} label')\n",
    "      print(f'Accuracy: {acc} Recall {rec} Precision {prec} F1 {f1}')\n",
    "      print('-----------------------')\n",
    "      all_preds[:,i] = pred\n",
    "    total_acc = accuracy_score(test_label, all_preds)\n",
    "    total_rec = recall_score(test_label, all_preds, average='micro')\n",
    "    total_prec = precision_score(test_label, all_preds, average='micro')\n",
    "    total_f1 = f1_score(test_label, all_preds, average='micro')\n",
    "    print('Total')\n",
    "    print(f'Accuracy: {total_acc} Recall {total_rec} Precision {total_prec} F1 {total_f1}')"
   ]
  },
  {
   "cell_type": "code",
   "execution_count": null,
   "metadata": {
    "colab": {
     "base_uri": "https://localhost:8080/"
    },
    "executionInfo": {
     "elapsed": 76753,
     "status": "ok",
     "timestamp": 1618951032552,
     "user": {
      "displayName": "Justin Chen",
      "photoUrl": "",
      "userId": "17694757636074260730"
     },
     "user_tz": 240
    },
    "id": "QWqbIONIWpc4",
    "outputId": "95b2d349-5b9b-4346-bda4-57fb012bf5de"
   },
   "outputs": [],
   "source": [
    "NB = NaiveBayes()\n",
    "NB.eval(X_train, y_train, X_test, y_test)"
   ]
  }
 ],
 "metadata": {
  "colab": {
   "authorship_tag": "ABX9TyOnd0EJz3v973rkHZ32DGfO",
   "collapsed_sections": [],
   "name": "Naive_Bayes.ipynb",
   "provenance": [],
   "toc_visible": true
  },
  "kernelspec": {
   "display_name": "Python 3",
   "language": "python",
   "name": "python3"
  },
  "language_info": {
   "codemirror_mode": {
    "name": "ipython",
    "version": 3
   },
   "file_extension": ".py",
   "mimetype": "text/x-python",
   "name": "python",
   "nbconvert_exporter": "python",
   "pygments_lexer": "ipython3",
   "version": "3.7.1"
  }
 },
 "nbformat": 4,
 "nbformat_minor": 1
}
